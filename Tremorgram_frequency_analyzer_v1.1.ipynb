{
 "cells": [
  {
   "cell_type": "code",
   "execution_count": null,
   "metadata": {},
   "outputs": [],
   "source": [
    "from pandas import read_csv\n",
    "from numpy import array, linspace, zeros, abs, mean\n",
    "import matplotlib.pyplot as plt\n",
    "from scipy import signal\n",
    "from scipy.fftpack import fft"
   ]
  },
  {
   "cell_type": "code",
   "execution_count": null,
   "metadata": {},
   "outputs": [],
   "source": [
    "def data_filter(data, data_t, sr, low, high): #a filter for low and high cut-off\n",
    "    '''\n",
    "    data: sEMG data in a single channel ( n x 1 array). \n",
    "    data_t: transposed sEMG data (1 x n array)\n",
    "    sr: sampleing rate, same time units as period\n",
    "    low: Low cut-off frequency (high-pass filter)\n",
    "    high: High cut-off frequency (low-pass filter)\n",
    "    return: filtered data\n",
    "    '''\n",
    "\n",
    "    low=low\n",
    "    high=high\n",
    "\n",
    "    order = 5\n",
    "    sos = signal.butter(order,(low, high), btype='bandpass', fs=sr, output='sos')\n",
    "    data_filtered=zeros((data.shape[0]))\n",
    "    for index, column in enumerate(data_t):\n",
    "        forward = signal.sosfilt(sos, column)\n",
    "        backwards = signal.sosfilt(sos, forward[-1::-1])\n",
    "    L=len(backwards)\n",
    "    for ind, item in enumerate(backwards):\n",
    "        data_filtered[L-1]=item\n",
    "        L-=1\n",
    "    \n",
    "    return data_filtered"
   ]
  },
  {
   "cell_type": "code",
   "execution_count": null,
   "metadata": {},
   "outputs": [],
   "source": [
    "# Loading\n",
    "Tremor=read_csv('path')\n",
    "Time_oneline=960*(1/48000)\n",
    "# print(Time_oneline)\n",
    "Tremor_array=Tremor.to_numpy() # raw exported file in an array\n",
    "header=Tremor_array[:,0] #header for idenfication of data blocks\n",
    "Patient_ID=Tremor_array[8,2]"
   ]
  },
  {
   "cell_type": "code",
   "execution_count": null,
   "metadata": {},
   "outputs": [],
   "source": [
    "# Identify the location of data in each channel\n",
    "detector_LivePlay=list()\n",
    "i=0\n",
    "j=0\n",
    "for idx, item in enumerate(header):\n",
    "    if item=='LivePlay' and i==0 and j==0:\n",
    "        i+=1\n",
    "        j+=1\n",
    "        detector_LivePlay.append(idx)\n",
    "    elif item!='LivePlay' and i>0 and j>0:\n",
    "        detector_LivePlay.append(idx-1)\n",
    "        i+=1\n",
    "        j=0\n",
    "    elif item=='LivePlay' and i!=0 and j==0:\n",
    "        detector_LivePlay.append(idx)\n",
    "        i+=1\n",
    "        j+=1\n",
    "              \n",
    "\n",
    "detector_LivePlay.append(len(header)-1)\n",
    "# print(detector_LivePlay)"
   ]
  },
  {
   "cell_type": "code",
   "execution_count": null,
   "metadata": {},
   "outputs": [],
   "source": [
    "# separate data into each channol\n",
    "CH1=detector_LivePlay[0:2] #CH1_idx\n",
    "CH2=detector_LivePlay[2:4] #CH2_idx\n",
    "CH3=detector_LivePlay[4:6] #CH3_idx\n",
    "CH4=detector_LivePlay[6:]  #CH4_idx\n",
    "Channel_set=[CH1,CH2,CH3,CH4]\n"
   ]
  },
  {
   "cell_type": "code",
   "execution_count": null,
   "metadata": {},
   "outputs": [],
   "source": [
    "# Extracting each channel data and create transposed array\n",
    "def channel_data(CH_idx, Tremor_array):\n",
    "    CH_lines=CH_idx[1]-CH_idx[0]+1\n",
    "    Data_sample_in_each_line=(Tremor_array.shape[1]-2)\n",
    "    total_number=CH_lines*Tremor_array.shape[1]\n",
    "    CH_data=zeros(total_number)\n",
    "    CH_data_t=zeros((1,total_number))\n",
    "    counter=0\n",
    "    for counter_line in range(CH_idx[0],CH_idx[1]+1,1):\n",
    "        for counter_sample in range(3,Tremor_array.shape[1],1):\n",
    "            CH_data[counter]=Tremor_array[counter_line][counter_sample]\n",
    "            CH_data_t[0][counter]=Tremor_array[counter_line][counter_sample]\n",
    "            counter+=1\n",
    "\n",
    "    \n",
    "    return CH_data, CH_data_t"
   ]
  },
  {
   "cell_type": "code",
   "execution_count": null,
   "metadata": {},
   "outputs": [],
   "source": [
    "#Data preprocessing\n",
    "Channel_name=['CH1','CH2','CH3','CH4']\n",
    "fs = 48000   # sample rate, Hz\n",
    "Low=1\n",
    "High=30\n",
    "\n",
    "\n",
    "for idx, CH in enumerate(Channel_set):\n",
    "    #filtering\n",
    "    ch_data, ch_data_t=channel_data(CH, Tremor_array)\n",
    "    T = len(ch_data)/fs         # Sample Period\n",
    "    data_filtered=data_filter(ch_data, ch_data_t, fs, Low, High)\n",
    "    # t = linspace(0, T, len(data_filtered), endpoint=False)\n",
    "    #downsamping to 512Hz\n",
    "    re_sr=512\n",
    "    y= data_filtered\n",
    "    samps = round(T*re_sr)\n",
    "    preprocessed_data = signal.resample(y, samps)\n",
    "\n",
    "    #fft\n",
    "    data_back_fft=fft(preprocessed_data, axis=0)\n",
    "    rows = preprocessed_data.shape[0]\n",
    "    freqs=(re_sr/2)*linspace(0,1,int(rows/2))\n",
    "    amplitudes_back = (2.0/rows)* abs(data_back_fft[:rows//2])\n",
    "\n",
    "    fig,axes = plt.subplots(figsize=(6,5), ncols=1, nrows=1, sharex=False)\n",
    "    axes.plot(freqs,amplitudes_back)\n",
    "    axes.set_xlim(1,High)\n",
    "    axes.set(ylabel='Amplitude')\n",
    "    axes.set(xlabel='Frequency (Hz)')\n",
    "    plt.title('ID:'f'{Patient_ID}''-Power spectrum of 'f'{Channel_name[idx]}');\n",
    "    plt.show();\n",
    "    plt.savefig(f'{Patient_ID}''-Power spectrum of 'f'{Channel_name[idx]}');"
   ]
  },
  {
   "cell_type": "code",
   "execution_count": null,
   "metadata": {},
   "outputs": [],
   "source": []
  }
 ],
 "metadata": {
  "kernelspec": {
   "display_name": "Python 3",
   "language": "python",
   "name": "python3"
  },
  "language_info": {
   "codemirror_mode": {
    "name": "ipython",
    "version": 3
   },
   "file_extension": ".py",
   "mimetype": "text/x-python",
   "name": "python",
   "nbconvert_exporter": "python",
   "pygments_lexer": "ipython3",
   "version": "3.11.9"
  }
 },
 "nbformat": 4,
 "nbformat_minor": 2
}
